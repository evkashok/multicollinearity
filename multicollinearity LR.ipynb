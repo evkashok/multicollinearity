{
 "cells": [
  {
   "cell_type": "code",
   "execution_count": 1,
   "metadata": {},
   "outputs": [],
   "source": [
    "import pandas as pd"
   ]
  },
  {
   "cell_type": "code",
   "execution_count": null,
   "metadata": {},
   "outputs": [],
   "source": [
    "import statsmodels.api as sm\n",
    "df_adv = pd.read_csv('data/Advertising.csv', index_col=0)\n",
    "X = df_adv[['TV', 'radio','newspaper']]\n",
    "y = df_adv['sales']\n",
    "df_adv.head()\n",
    "\n",
    "X = sm.add_constant(X)\n",
    "X\n",
    "\n",
    "## fit a OLS model with intercept on TV and Radio\n",
    "\n",
    "model= sm.OLS(y, X).fit()\n",
    "\n",
    "\n",
    "model.summary()\n",
    "\n",
    "\n",
    "import matplotlib.pyplot as plt\n",
    "X.iloc[:,1:].corr()\n",
    "\n",
    "#anotother dataset\n",
    "df_salary = pd.read_csv('data/Salary_Data.csv')\n",
    "df_salary.head()\n",
    "\n",
    "X = df_salary[['YearsExperience', 'Age']]\n",
    "y = df_salary['Salary']\n",
    "\n",
    "## fit a OLS model with intercept on TV and Radio\n",
    "X = sm.add_constant(X)\n",
    "model= sm.OLS(y, X).fit()\n",
    "\n",
    "X.iloc[:,1:].corr()"
   ]
  }
 ],
 "metadata": {
  "kernelspec": {
   "display_name": "Python 3",
   "language": "python",
   "name": "python3"
  },
  "language_info": {
   "codemirror_mode": {
    "name": "ipython",
    "version": 3
   },
   "file_extension": ".py",
   "mimetype": "text/x-python",
   "name": "python",
   "nbconvert_exporter": "python",
   "pygments_lexer": "ipython3",
   "version": "3.7.6"
  }
 },
 "nbformat": 4,
 "nbformat_minor": 4
}
